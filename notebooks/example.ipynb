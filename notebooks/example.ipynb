{
 "cells": [
  {
   "cell_type": "markdown",
   "metadata": {},
   "source": [
    "# Language Detection system "
   ]
  },
  {
   "cell_type": "markdown",
   "metadata": {},
   "source": [
    "Iván Vallés Pérez - 2018"
   ]
  },
  {
   "cell_type": "markdown",
   "metadata": {},
   "source": [
    "A very simple language detection system for small data has been developed. It computes tf-idf features using the data provided and a set of features given some wikipedia articles of the intended languages."
   ]
  },
  {
   "cell_type": "code",
   "execution_count": null,
   "metadata": {
    "collapsed": true
   },
   "outputs": [],
   "source": [
    "%cd .."
   ]
  },
  {
   "cell_type": "code",
   "execution_count": 2,
   "metadata": {
    "collapsed": true
   },
   "outputs": [],
   "source": [
    "#!/usr/bin/env python\n",
    "# -*- coding: utf-8 -*-\n",
    "\n",
    "import os\n",
    "\n",
    "import pandas as pd\n",
    "import numpy as np\n",
    "from sklearn.externals import joblib\n",
    "from sklearn.model_selection import train_test_split\n",
    "from sklearn.metrics import accuracy_score, classification_report\n",
    "\n",
    "from src.common_paths import get_data_path, get_output_path\n",
    "from src.modeling import train_model\n",
    "\n",
    "np.random.seed(655321)"
   ]
  },
  {
   "cell_type": "code",
   "execution_count": 3,
   "metadata": {
    "collapsed": true
   },
   "outputs": [],
   "source": [
    "# Data load and train-test splits\n",
    "df = pd.read_csv(os.path.join(get_data_path(), \"lang_data.csv\"), encoding=\"utf-8\", sep=\",\").fillna({\"text\": \"empty\"})\n",
    "df = df.reindex(np.random.permutation(df.index)).reset_index(drop=True)\n",
    "\n",
    "x_train, x_test, y_train, y_test = train_test_split(df.text, df.language, stratify=df.language)"
   ]
  },
  {
   "cell_type": "code",
   "execution_count": 4,
   "metadata": {},
   "outputs": [
    {
     "name": "stdout",
     "output_type": "stream",
     "text": [
      "Loading wikipedia language: enwiki\n"
     ]
    },
    {
     "name": "stderr",
     "output_type": "stream",
     "text": [
      "C:\\Users\\Ivan Valles Perez\\Desktop\\exercise\\language_detection\\src\\wikipedia_corpora_tools.py:91: UserWarning: Not able to decode article NO 3981 in json: C:\\Users\\Ivan Valles Perez\\Desktop\\exercise\\language_detection\\external_data\\wikipedia\\enwiki\\AA\\wiki_00\n",
      "  warnings.warn(\"Not able to decode article NO {} in json: {}\".format(i, os.path.join(step_path, filename)))\n",
      "C:\\Users\\Ivan Valles Perez\\Desktop\\exercise\\language_detection\\src\\wikipedia_corpora_tools.py:91: UserWarning: Not able to decode article NO 3982 in json: C:\\Users\\Ivan Valles Perez\\Desktop\\exercise\\language_detection\\external_data\\wikipedia\\enwiki\\AA\\wiki_00\n",
      "  warnings.warn(\"Not able to decode article NO {} in json: {}\".format(i, os.path.join(step_path, filename)))\n",
      "C:\\Users\\Ivan Valles Perez\\Desktop\\exercise\\language_detection\\src\\wikipedia_corpora_tools.py:91: UserWarning: Not able to decode article NO 3983 in json: C:\\Users\\Ivan Valles Perez\\Desktop\\exercise\\language_detection\\external_data\\wikipedia\\enwiki\\AA\\wiki_00\n",
      "  warnings.warn(\"Not able to decode article NO {} in json: {}\".format(i, os.path.join(step_path, filename)))\n"
     ]
    },
    {
     "name": "stdout",
     "output_type": "stream",
     "text": [
      "Loading wikipedia language: nlwiki\n"
     ]
    },
    {
     "name": "stderr",
     "output_type": "stream",
     "text": [
      "C:\\Users\\Ivan Valles Perez\\Desktop\\exercise\\language_detection\\src\\wikipedia_corpora_tools.py:91: UserWarning: Not able to decode article NO 23528 in json: C:\\Users\\Ivan Valles Perez\\Desktop\\exercise\\language_detection\\external_data\\wikipedia\\nlwiki\\AA\\wiki_02\n",
      "  warnings.warn(\"Not able to decode article NO {} in json: {}\".format(i, os.path.join(step_path, filename)))\n",
      "C:\\Users\\Ivan Valles Perez\\Desktop\\exercise\\language_detection\\src\\wikipedia_corpora_tools.py:91: UserWarning: Not able to decode article NO 23529 in json: C:\\Users\\Ivan Valles Perez\\Desktop\\exercise\\language_detection\\external_data\\wikipedia\\nlwiki\\AA\\wiki_02\n",
      "  warnings.warn(\"Not able to decode article NO {} in json: {}\".format(i, os.path.join(step_path, filename)))\n"
     ]
    },
    {
     "name": "stdout",
     "output_type": "stream",
     "text": [
      "Loading wikipedia language: afwiki\n"
     ]
    }
   ],
   "source": [
    "# Train the model\n",
    "model = train_model(x_train, y_train)"
   ]
  },
  {
   "cell_type": "code",
   "execution_count": 5,
   "metadata": {},
   "outputs": [
    {
     "name": "stdout",
     "output_type": "stream",
     "text": [
      "=============== Results Training set ===============\n",
      "Accuracy: 0.972757162987318\n",
      "\n",
      "             precision    recall  f1-score   support\n",
      "\n",
      "  Afrikaans       0.93      1.00      0.97       470\n",
      "    English       0.99      0.99      0.99      1544\n",
      " Nederlands       0.97      0.57      0.72       115\n",
      "\n",
      "avg / total       0.97      0.97      0.97      2129\n",
      "\n",
      "===================================================\n",
      "\n",
      " -- \t -- \t -- \t -- \t -- \t -- \t --\n",
      "\n",
      "================= Results Test set ================\n",
      "Accuracy: 0.956338028169014\n",
      "\n",
      "             precision    recall  f1-score   support\n",
      "\n",
      "  Afrikaans       0.92      0.94      0.93       163\n",
      "    English       0.98      0.99      0.99       513\n",
      " Nederlands       0.70      0.47      0.56        34\n",
      "\n",
      "avg / total       0.95      0.96      0.95       710\n",
      "\n",
      "===================================================\n"
     ]
    },
    {
     "data": {
      "text/plain": [
       "['C:\\\\Users\\\\Ivan Valles Perez\\\\Desktop\\\\exercise\\\\language_detection\\\\output\\\\model.pkl']"
      ]
     },
     "execution_count": 5,
     "metadata": {},
     "output_type": "execute_result"
    }
   ],
   "source": [
    "# Show performance metrics\n",
    "print (\"=============== Results Training set ===============\")\n",
    "print (\"Accuracy: {}\\n\".format(accuracy_score(model.predict(x_train), y_train)))\n",
    "print (classification_report(model.predict(x_train), y_train))\n",
    "print (\"===================================================\")\n",
    "\n",
    "print (\"\\n -- \\t -- \\t -- \\t -- \\t -- \\t -- \\t --\\n\")\n",
    "\n",
    "print (\"================= Results Test set ================\")\n",
    "print (\"Accuracy: {}\\n\".format(accuracy_score(model.predict(x_test), y_test)))\n",
    "print (classification_report(model.predict(x_test), y_test))\n",
    "print (\"===================================================\")\n",
    "\n",
    "joblib.dump(model, os.path.join(get_output_path(), 'model.pkl'))"
   ]
  },
  {
   "cell_type": "markdown",
   "metadata": {},
   "source": [
    "## Hand-testing the model"
   ]
  },
  {
   "cell_type": "code",
   "execution_count": 29,
   "metadata": {},
   "outputs": [
    {
     "data": {
      "text/plain": [
       "'English'"
      ]
     },
     "execution_count": 29,
     "metadata": {},
     "output_type": "execute_result"
    }
   ],
   "source": [
    "model.predict([\"Can machines think?\"])[0]"
   ]
  },
  {
   "cell_type": "code",
   "execution_count": 27,
   "metadata": {},
   "outputs": [
    {
     "data": {
      "text/plain": [
       "'Nederlands'"
      ]
     },
     "execution_count": 27,
     "metadata": {},
     "output_type": "execute_result"
    }
   ],
   "source": [
    "model.predict([\"Kunnen machines denken?\"])[0]"
   ]
  },
  {
   "cell_type": "code",
   "execution_count": 28,
   "metadata": {},
   "outputs": [
    {
     "data": {
      "text/plain": [
       "'Afrikaans'"
      ]
     },
     "execution_count": 28,
     "metadata": {},
     "output_type": "execute_result"
    }
   ],
   "source": [
    "model.predict([\"Kan masjiene dink?\"])[0]"
   ]
  }
 ],
 "metadata": {
  "kernelspec": {
   "display_name": "Python 3",
   "language": "python",
   "name": "python3"
  },
  "language_info": {
   "codemirror_mode": {
    "name": "ipython",
    "version": 3
   },
   "file_extension": ".py",
   "mimetype": "text/x-python",
   "name": "python",
   "nbconvert_exporter": "python",
   "pygments_lexer": "ipython3",
   "version": "3.6.1"
  }
 },
 "nbformat": 4,
 "nbformat_minor": 2
}
